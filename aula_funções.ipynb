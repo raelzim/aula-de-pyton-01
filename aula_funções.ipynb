{
  "nbformat": 4,
  "nbformat_minor": 0,
  "metadata": {
    "colab": {
      "provenance": [],
      "authorship_tag": "ABX9TyPWS9yp/nVnG5K1I3TUvOLH",
      "include_colab_link": true
    },
    "kernelspec": {
      "name": "python3",
      "display_name": "Python 3"
    },
    "language_info": {
      "name": "python"
    }
  },
  "cells": [
    {
      "cell_type": "markdown",
      "metadata": {
        "id": "view-in-github",
        "colab_type": "text"
      },
      "source": [
        "<a href=\"https://colab.research.google.com/github/raelzim/aulas.programacao/blob/main/aula_fun%C3%A7%C3%B5es.ipynb\" target=\"_parent\"><img src=\"https://colab.research.google.com/assets/colab-badge.svg\" alt=\"Open In Colab\"/></a>"
      ]
    },
    {
      "cell_type": "code",
      "execution_count": 2,
      "metadata": {
        "id": "SX9CkpsJGMsm"
      },
      "outputs": [],
      "source": [
        "#Declaração de uma função\n",
        "def my_first_function():\n",
        "  print('minha primeira função')"
      ]
    },
    {
      "cell_type": "code",
      "source": [
        "#chamando uma função\n",
        "my_first_function()"
      ],
      "metadata": {
        "colab": {
          "base_uri": "https://localhost:8080/"
        },
        "id": "9I4lS6vzHkt2",
        "outputId": "e8196175-cceb-4fe4-8f4d-f015d1547232"
      },
      "execution_count": 3,
      "outputs": [
        {
          "output_type": "stream",
          "name": "stdout",
          "text": [
            "minha primeira função\n"
          ]
        }
      ]
    },
    {
      "cell_type": "code",
      "source": [
        "def pronomeTratam(pronome):\n",
        "  print(pronome + \" Israel\")"
      ],
      "metadata": {
        "id": "9IyXqr5rIdXU"
      },
      "execution_count": 6,
      "outputs": []
    },
    {
      "cell_type": "code",
      "source": [
        "pronomeTratam('Doutor')\n",
        "pronomeTratam('senhor')\n",
        "pronomeTratam('Seu')"
      ],
      "metadata": {
        "colab": {
          "base_uri": "https://localhost:8080/"
        },
        "id": "I2ZSyDHWI8BM",
        "outputId": "27487b6b-6da3-4f90-8338-ec186803624a"
      },
      "execution_count": 65,
      "outputs": [
        {
          "output_type": "stream",
          "name": "stdout",
          "text": [
            "Doutor Israel\n",
            "senhor Israel\n",
            "Seu Israel\n"
          ]
        }
      ]
    },
    {
      "cell_type": "code",
      "source": [
        "def tratamNome(pronome, nome):\n",
        "  print(pronome, nome)"
      ],
      "metadata": {
        "id": "cSUbbNCZJzZN"
      },
      "execution_count": 8,
      "outputs": []
    },
    {
      "cell_type": "code",
      "source": [
        "tratamNome('Ilustríssimo', 'Canalha')"
      ],
      "metadata": {
        "colab": {
          "base_uri": "https://localhost:8080/"
        },
        "id": "ftZrdWrUKN-m",
        "outputId": "6ebf1869-d4c0-4867-e24b-f8b89eb4ffba"
      },
      "execution_count": 9,
      "outputs": [
        {
          "output_type": "stream",
          "name": "stdout",
          "text": [
            "Ilustríssimo Canalha\n"
          ]
        }
      ]
    },
    {
      "cell_type": "code",
      "source": [
        "#Função que recebe com parametros Nome e Anno de nascimento\n",
        "#Calcule a idade do sujeito e retona algo como\n",
        "#Israel tem 19"
      ],
      "metadata": {
        "id": "ZgairV7sK5_8"
      },
      "execution_count": null,
      "outputs": []
    },
    {
      "cell_type": "code",
      "source": [
        "def nomeAno(nome, ano):\n",
        "  idade = 2023 - ano\n",
        "  print(nome, idade, 'anos')\n"
      ],
      "metadata": {
        "id": "vQpVLcX3MhbU"
      },
      "execution_count": 14,
      "outputs": []
    },
    {
      "cell_type": "code",
      "source": [
        "nomeAno('Israel', 2003)"
      ],
      "metadata": {
        "colab": {
          "base_uri": "https://localhost:8080/"
        },
        "id": "54i_VWCgM6MF",
        "outputId": "a8562091-2926-4025-dbb3-373921fde772"
      },
      "execution_count": 15,
      "outputs": [
        {
          "output_type": "stream",
          "name": "stdout",
          "text": [
            "Israel 20 anos\n"
          ]
        }
      ]
    },
    {
      "cell_type": "code",
      "source": [
        "#Uma função deve ser chamada com o número certinho de argumentos"
      ],
      "metadata": {
        "id": "SR0NgvZ6Me0O"
      },
      "execution_count": null,
      "outputs": []
    },
    {
      "cell_type": "code",
      "source": [
        "#Função que recebe Altura e peso e retorna o IMc:\n",
        "#Fórmula IMC peso/altura**2"
      ],
      "metadata": {
        "id": "-594odJ3OdIN"
      },
      "execution_count": null,
      "outputs": []
    },
    {
      "cell_type": "code",
      "source": [
        "def CalculoImc(peso, altura):\n",
        "  print( peso/altura**2)"
      ],
      "metadata": {
        "id": "AHSgU4FBOrhT"
      },
      "execution_count": 28,
      "outputs": []
    },
    {
      "cell_type": "code",
      "source": [
        "CalculoImc(1.80, 67)"
      ],
      "metadata": {
        "colab": {
          "base_uri": "https://localhost:8080/"
        },
        "id": "bYGl2KhrPvXF",
        "outputId": "6915b635-1e55-4a1d-b4dc-37b7d63471ac"
      },
      "execution_count": 29,
      "outputs": [
        {
          "output_type": "stream",
          "name": "stdout",
          "text": [
            "0.0004009801737580753\n"
          ]
        }
      ]
    },
    {
      "cell_type": "code",
      "source": [
        "def CalculoImc(peso, altura):\n",
        "  return peso/altura**2"
      ],
      "metadata": {
        "id": "D22t2K_XQzJl"
      },
      "execution_count": 33,
      "outputs": []
    },
    {
      "cell_type": "code",
      "source": [
        "CalculoImc(1.80, 67) < 70"
      ],
      "metadata": {
        "colab": {
          "base_uri": "https://localhost:8080/"
        },
        "id": "C2rm35_zQ7Gk",
        "outputId": "1ce0cf42-d169-4396-c886-ac2266571c21"
      },
      "execution_count": 35,
      "outputs": [
        {
          "output_type": "execute_result",
          "data": {
            "text/plain": [
              "True"
            ]
          },
          "metadata": {},
          "execution_count": 35
        }
      ]
    },
    {
      "cell_type": "code",
      "source": [
        "#O cálculo de Juros Simple é dado pela fórmula:\n",
        "# J = C * i * t\n",
        "# Sendo:\n",
        "# J = juros simples \n",
        "# C = capital inicial\n",
        "# i = taxa de juros\n",
        "# t = tempo de aplicação\n",
        "#Crie uma função que recebe um valor de emp´restimo e o \n",
        "#tempo e retorme quanto será pago de juros ao final do período\n",
        "#use uma taxa de juros de 2.5%"
      ],
      "metadata": {
        "id": "OSKgHQM3Z8Kr"
      },
      "execution_count": 46,
      "outputs": []
    },
    {
      "cell_type": "code",
      "source": [
        "def jurosSimples (valor, tempo):\n",
        " return valor * 0.0250 * tempo"
      ],
      "metadata": {
        "id": "EqIqfEUPa0Rp"
      },
      "execution_count": 57,
      "outputs": []
    },
    {
      "cell_type": "code",
      "source": [
        "jurosSimples(1000, 5)"
      ],
      "metadata": {
        "colab": {
          "base_uri": "https://localhost:8080/"
        },
        "id": "ZNg6s3Kubg1i",
        "outputId": "3d2fccfb-4a19-42ba-c737-f09f3c171eca"
      },
      "execution_count": 58,
      "outputs": [
        {
          "output_type": "execute_result",
          "data": {
            "text/plain": [
              "125.0"
            ]
          },
          "metadata": {},
          "execution_count": 58
        }
      ]
    },
    {
      "cell_type": "code",
      "source": [
        "def valorTotalEmprestimo(valor, tempo):\n",
        "  return valor + jurosSimples(valor, tempo)"
      ],
      "metadata": {
        "id": "qs2I6ngXb6US"
      },
      "execution_count": 62,
      "outputs": []
    },
    {
      "cell_type": "code",
      "source": [
        "valorTotalEmprestimo(1000, 12)"
      ],
      "metadata": {
        "colab": {
          "base_uri": "https://localhost:8080/"
        },
        "id": "EPiUzXn0d9ds",
        "outputId": "b1ca8af6-4b8d-4115-cdc2-4de2cd4361c2"
      },
      "execution_count": 63,
      "outputs": [
        {
          "output_type": "execute_result",
          "data": {
            "text/plain": [
              "1300.0"
            ]
          },
          "metadata": {},
          "execution_count": 63
        }
      ]
    },
    {
      "cell_type": "code",
      "source": [
        "#Programa que solicita o valor de emprestimo e o tempo\n",
        "valor = float(input('Digite o valopr de emprestimo: '))\n",
        "tempo = int(input('Em quanto tempo?'))\n",
        "valorTotalEmprestimo(valor , tempo)"
      ],
      "metadata": {
        "colab": {
          "base_uri": "https://localhost:8080/"
        },
        "id": "-EUlmE9ffDqY",
        "outputId": "49d512f6-a807-47a5-83f3-c13d49b2ce55"
      },
      "execution_count": 64,
      "outputs": [
        {
          "name": "stdout",
          "output_type": "stream",
          "text": [
            "Digite o valopr de emprestimo: 12\n",
            "Em quanto tempo?6\n"
          ]
        },
        {
          "output_type": "execute_result",
          "data": {
            "text/plain": [
              "13.8"
            ]
          },
          "metadata": {},
          "execution_count": 64
        }
      ]
    }
  ]
}