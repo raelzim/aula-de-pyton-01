{
  "nbformat": 4,
  "nbformat_minor": 0,
  "metadata": {
    "colab": {
      "provenance": [],
      "authorship_tag": "ABX9TyN4Ww0QjWW5BUavIsNLc9Yu",
      "include_colab_link": true
    },
    "kernelspec": {
      "name": "python3",
      "display_name": "Python 3"
    },
    "language_info": {
      "name": "python"
    }
  },
  "cells": [
    {
      "cell_type": "markdown",
      "metadata": {
        "id": "view-in-github",
        "colab_type": "text"
      },
      "source": [
        "<a href=\"https://colab.research.google.com/github/raelzim/aulas.programacao/blob/main/aula_03.ipynb\" target=\"_parent\"><img src=\"https://colab.research.google.com/assets/colab-badge.svg\" alt=\"Open In Colab\"/></a>"
      ]
    },
    {
      "cell_type": "code",
      "execution_count": 10,
      "metadata": {
        "colab": {
          "base_uri": "https://localhost:8080/"
        },
        "id": "DW80Y2onH3_g",
        "outputId": "4b7a3257-7bbb-47cc-d249-208c83982642"
      },
      "outputs": [
        {
          "name": "stdout",
          "output_type": "stream",
          "text": [
            "Digite uma cidadeJoao\n",
            "Digite uma cidade:0\n"
          ]
        },
        {
          "output_type": "execute_result",
          "data": {
            "text/plain": [
              "['Joao']"
            ]
          },
          "metadata": {},
          "execution_count": 10
        }
      ],
      "source": [
        "#insirir nomes de cidades.\n",
        "#O laço encerra, quando digitar 0.\n",
        "cidades = []\n",
        "city = input('Digite uma cidade')\n",
        "\n",
        "while(city != '0'):\n",
        "  cidades.append(city)\n",
        "  city = input('Digite uma cidade:')\n",
        "  \n",
        "cidades\n",
        " "
      ]
    },
    {
      "cell_type": "code",
      "source": [
        "#Analisar se é par ou impar\n",
        "numero = int(input('Digite um inteiro: '))\n",
        "\n",
        "if (numero%2) == 0:\n",
        "   print('Par')\n",
        "\n",
        "else:\n",
        "   print('impar')"
      ],
      "metadata": {
        "colab": {
          "base_uri": "https://localhost:8080/"
        },
        "id": "4UJkCaQfX31s",
        "outputId": "74a48435-dcfb-4cfe-8b83-041e03bd200c"
      },
      "execution_count": 5,
      "outputs": [
        {
          "output_type": "stream",
          "name": "stdout",
          "text": [
            "Digite um inteiro: 11\n",
            "impar\n"
          ]
        }
      ]
    },
    {
      "cell_type": "code",
      "source": [
        "#par ou impar\n",
        "num = int(input('Digita um numero: '))\n",
        "\n",
        "while(num >= 0):\n",
        "  if(num % 2 == 0):\n",
        "    print('É par')\n",
        "    num =int(input('Digita um numero: ')) \n",
        "  else:\n",
        "    print('É impar')\n",
        "    num = int(input('Digita um numero: '))    \n",
        "\n",
        "print('Acabou o programa!')\n"
      ],
      "metadata": {
        "colab": {
          "base_uri": "https://localhost:8080/"
        },
        "id": "XHan3177aP_3",
        "outputId": "d84f9a83-f05e-481f-b68e-82165ff0b915"
      },
      "execution_count": 7,
      "outputs": [
        {
          "output_type": "stream",
          "name": "stdout",
          "text": [
            "Digita um numero: 14\n",
            "É par\n",
            "Digita um numero: 11\n",
            "É impar\n",
            "Digita um numero: 22\n",
            "É par\n",
            "Digita um numero: 22\n",
            "É par\n",
            "Digita um numero: 33\n",
            "É impar\n",
            "Digita um numero: -1\n",
            "Acabou o programa!\n"
          ]
        }
      ]
    }
  ]
}