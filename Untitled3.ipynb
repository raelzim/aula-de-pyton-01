{
  "nbformat": 4,
  "nbformat_minor": 0,
  "metadata": {
    "colab": {
      "provenance": [],
      "authorship_tag": "ABX9TyOiSwsC3jFFakr2gNZhT6sp",
      "include_colab_link": true
    },
    "kernelspec": {
      "name": "python3",
      "display_name": "Python 3"
    },
    "language_info": {
      "name": "python"
    }
  },
  "cells": [
    {
      "cell_type": "markdown",
      "metadata": {
        "id": "view-in-github",
        "colab_type": "text"
      },
      "source": [
        "<a href=\"https://colab.research.google.com/github/raelzim/aulas.programacao/blob/main/Untitled3.ipynb\" target=\"_parent\"><img src=\"https://colab.research.google.com/assets/colab-badge.svg\" alt=\"Open In Colab\"/></a>"
      ]
    },
    {
      "cell_type": "code",
      "execution_count": 21,
      "metadata": {
        "id": "WIEoslBRMk27"
      },
      "outputs": [],
      "source": [
        "#Argumentos arbitrios *args\n",
        "#Quando não se tem certeza quantos argumentos são passadas pela função\n",
        "\n",
        "def mediaTotal(*notas):\n",
        "  soma= 0\n",
        "  for nota in notas:\n",
        "    soma += nota\n",
        "  media = soma/len(notas)\n",
        "  print('A média é: ', media)\n",
        "  #Ou return round(media)"
      ]
    },
    {
      "cell_type": "code",
      "source": [
        "mediaTotal(4,8,9,8,7,8,9,5,6,7,3)"
      ],
      "metadata": {
        "colab": {
          "base_uri": "https://localhost:8080/"
        },
        "id": "tQEtuEsdNxa8",
        "outputId": "2e9dcb9c-84fd-40d0-dd6f-67bd8701b9c2"
      },
      "execution_count": 13,
      "outputs": [
        {
          "output_type": "stream",
          "name": "stdout",
          "text": [
            "A média é:  6.7272727272727275\n"
          ]
        }
      ]
    },
    {
      "cell_type": "code",
      "source": [
        "#Recebe varios numeros e retorna o maior.\n",
        "\n",
        "def maior_numero(lista):\n",
        "  return max(lista)\n",
        " \n",
        "  \n",
        "     \n",
        "   \n"
      ],
      "metadata": {
        "id": "EdEloQFIPcSM"
      },
      "execution_count": 51,
      "outputs": []
    },
    {
      "cell_type": "code",
      "source": [
        "numeros = [1,2,3,4,5,6] \n",
        "maior_numero(numeros)\n"
      ],
      "metadata": {
        "colab": {
          "base_uri": "https://localhost:8080/"
        },
        "id": "sSv-fS8vbp5u",
        "outputId": "9af221f8-7567-4349-96b5-6d1e9e0b99b7"
      },
      "execution_count": 52,
      "outputs": [
        {
          "output_type": "execute_result",
          "data": {
            "text/plain": [
              "6"
            ]
          },
          "metadata": {},
          "execution_count": 52
        }
      ]
    },
    {
      "cell_type": "code",
      "source": [
        "#Exercicio do professor \n",
        "def retornaMaior(*numeros):\n",
        "  maior = 0\n",
        "  for n in numeros:\n",
        "   if(n >= maior):\n",
        "     maior = n\n",
        "   return maior  \n"
      ],
      "metadata": {
        "id": "vnsZbzmya5p3"
      },
      "execution_count": 42,
      "outputs": []
    },
    {
      "cell_type": "code",
      "source": [
        "retornaMaior(2, 5, 17, 3, 23, 5)"
      ],
      "metadata": {
        "colab": {
          "base_uri": "https://localhost:8080/"
        },
        "id": "16hxQ6xudROm",
        "outputId": "d316c847-24b3-44d1-fb18-224a24b7049e"
      },
      "execution_count": 43,
      "outputs": [
        {
          "output_type": "execute_result",
          "data": {
            "text/plain": [
              "2"
            ]
          },
          "metadata": {},
          "execution_count": 43
        }
      ]
    },
    {
      "cell_type": "code",
      "source": [
        "#Valor de parametro padrão\n",
        "def nacionalidade(contry = 'cuba'):\n",
        "  print('Eu nasci em: '+ contry)"
      ],
      "metadata": {
        "id": "6cCVkdbkdIOI"
      },
      "execution_count": 55,
      "outputs": []
    },
    {
      "cell_type": "code",
      "source": [
        "nacionalidade('Brsil')\n",
        "nacionalidade('França')\n",
        "nacionalidade('Vietnã')\n",
        "nacionalidade()"
      ],
      "metadata": {
        "colab": {
          "base_uri": "https://localhost:8080/"
        },
        "id": "VGbxFPjUfFjQ",
        "outputId": "30bdf3b0-6acc-4df4-9f0e-27d369179b04"
      },
      "execution_count": 56,
      "outputs": [
        {
          "output_type": "stream",
          "name": "stdout",
          "text": [
            "Eu nasci em: Brsil\n",
            "Eu nasci em: França\n",
            "Eu nasci em: Vietnã\n",
            "Eu nasci em: cuba\n"
          ]
        }
      ]
    },
    {
      "cell_type": "code",
      "source": [
        "def soma(a, b):\n",
        "  return a + b"
      ],
      "metadata": {
        "id": "ZN3SPM8UfrEg"
      },
      "execution_count": 64,
      "outputs": []
    },
    {
      "cell_type": "code",
      "source": [
        "soma(3, 46)"
      ],
      "metadata": {
        "colab": {
          "base_uri": "https://localhost:8080/"
        },
        "id": "Oo8q9s4YiMA7",
        "outputId": "9687ccec-e9ba-403e-ab9b-16e202f07dbc"
      },
      "execution_count": 65,
      "outputs": [
        {
          "output_type": "execute_result",
          "data": {
            "text/plain": [
              "49"
            ]
          },
          "metadata": {},
          "execution_count": 65
        }
      ]
    },
    {
      "cell_type": "code",
      "source": [
        "def valorAbsoluto(num):\n",
        "  return abs(num)\n",
        "   \n",
        " "
      ],
      "metadata": {
        "id": "0j-33_1rhQ9X"
      },
      "execution_count": 66,
      "outputs": []
    },
    {
      "cell_type": "code",
      "source": [],
      "metadata": {
        "colab": {
          "base_uri": "https://localhost:8080/"
        },
        "id": "RO7yNnhKi5Ta",
        "outputId": "22143c4e-c6b3-4b95-da5c-b63465bb5d9c"
      },
      "execution_count": 69,
      "outputs": [
        {
          "output_type": "execute_result",
          "data": {
            "text/plain": [
              "26"
            ]
          },
          "metadata": {},
          "execution_count": 69
        }
      ]
    },
    {
      "cell_type": "code",
      "source": [
        "def maiorque3(lista):\n",
        "  lista3 = []\n",
        "  for item in lista:\n",
        "    if(len(item) > 3):\n",
        "      lista3.append(item)\n",
        "  return lista3"
      ],
      "metadata": {
        "id": "gcx1kU5ujEyT"
      },
      "execution_count": 70,
      "outputs": []
    },
    {
      "cell_type": "code",
      "source": [
        "frutas = ['mangaba', 'uva', 'pinha']\n",
        "maiorque3(frutas)"
      ],
      "metadata": {
        "colab": {
          "base_uri": "https://localhost:8080/"
        },
        "id": "TAFNrt6nkn4m",
        "outputId": "76b39dc5-0c99-4034-8786-50be0ef1f195"
      },
      "execution_count": 71,
      "outputs": [
        {
          "output_type": "execute_result",
          "data": {
            "text/plain": [
              "['mangaba', 'pinha']"
            ]
          },
          "metadata": {},
          "execution_count": 71
        }
      ]
    }
  ]
}