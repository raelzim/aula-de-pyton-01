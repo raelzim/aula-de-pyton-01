{
  "nbformat": 4,
  "nbformat_minor": 0,
  "metadata": {
    "colab": {
      "provenance": [],
      "authorship_tag": "ABX9TyNl/U+30PFsOzvWwyIlMrI6",
      "include_colab_link": true
    },
    "kernelspec": {
      "name": "python3",
      "display_name": "Python 3"
    },
    "language_info": {
      "name": "python"
    }
  },
  "cells": [
    {
      "cell_type": "markdown",
      "metadata": {
        "id": "view-in-github",
        "colab_type": "text"
      },
      "source": [
        "<a href=\"https://colab.research.google.com/github/raelzim/aula-de-pyton-01/blob/main/Untitled9.ipynb\" target=\"_parent\"><img src=\"https://colab.research.google.com/assets/colab-badge.svg\" alt=\"Open In Colab\"/></a>"
      ]
    },
    {
      "cell_type": "code",
      "execution_count": 2,
      "metadata": {
        "id": "SNOe3u8qhDKo"
      },
      "outputs": [],
      "source": [
        "class Pessoa:\n",
        "  def __init__(self, name):\n",
        "    self.name = name"
      ]
    },
    {
      "cell_type": "code",
      "source": [
        "aluno = Pessoa('Cauã')\n",
        "aluno.name"
      ],
      "metadata": {
        "colab": {
          "base_uri": "https://localhost:8080/",
          "height": 35
        },
        "id": "Qj4uCgtEiH9P",
        "outputId": "1c2b3ecc-bb82-4ae7-9289-6b3b3e697119"
      },
      "execution_count": 6,
      "outputs": [
        {
          "output_type": "execute_result",
          "data": {
            "text/plain": [
              "'Cauã'"
            ],
            "application/vnd.google.colaboratory.intrinsic+json": {
              "type": "string"
            }
          },
          "metadata": {},
          "execution_count": 6
        }
      ]
    },
    {
      "cell_type": "code",
      "source": [
        "\n",
        "#Criar uma classe Funcionário que tem como atributos \n",
        "#nome, cargo e matrícula\n",
        "\n",
        "\n",
        "class Funcionario:\n",
        "  def __init__(self, nome, cargo, matricula):\n",
        "   self.nome = nome\n",
        "   self.cargo = cargo\n",
        "   self.matricula = matricula "
      ],
      "metadata": {
        "id": "ao-vyrCGim4Q"
      },
      "execution_count": 23,
      "outputs": []
    },
    {
      "cell_type": "code",
      "source": [
        "#Instancia de funcionario\n",
        "vend = Funcionario('Juarez', 'vendedor', 25845)\n",
        "print(f'{vend.nome}, cargo: {vend.cargo}, mat:{vend.matricula}')"
      ],
      "metadata": {
        "colab": {
          "base_uri": "https://localhost:8080/"
        },
        "id": "K7gLErxQjb_K",
        "outputId": "6f614c21-6741-4b4e-a9d0-18c4edb36130"
      },
      "execution_count": 29,
      "outputs": [
        {
          "output_type": "stream",
          "name": "stdout",
          "text": [
            "Juarez, cargo: vendedor, mat:25845\n"
          ]
        }
      ]
    },
    {
      "cell_type": "code",
      "source": [
        "#Criar uma classe Çliente contendo os atributos \n",
        "#nome, idade, sexo.\n",
        "class Cliente:\n",
        "  def __init__(self, nome, idade, sexo):\n",
        "    self.nome = nome\n",
        "    self.idade = idade \n",
        "    self.sexo = sexo\n",
        "  def detalhe(self):\n",
        "    print(f'{self.nome}, {self.idade}, {self.sexo}')  "
      ],
      "metadata": {
        "id": "9o0f4SC9m8tr"
      },
      "execution_count": 31,
      "outputs": []
    },
    {
      "cell_type": "code",
      "source": [
        "cli = Cliente('André', 24, 'Masculino')\n",
        "cli.detalhe()"
      ],
      "metadata": {
        "colab": {
          "base_uri": "https://localhost:8080/"
        },
        "id": "uOB2DEbZnf38",
        "outputId": "50551caf-6d85-4f33-90b2-1399881c967c"
      },
      "execution_count": 33,
      "outputs": [
        {
          "output_type": "stream",
          "name": "stdout",
          "text": [
            "André, 24, Masculino\n"
          ]
        }
      ]
    },
    {
      "cell_type": "code",
      "source": [
        "#Crie uma classe Conta com os atributos \n",
        "#titular, saldo\n",
        "\n",
        "class Conta:\n",
        "  def __init__(self, titular, saldo):\n",
        "    self.titular = titular\n",
        "    self.saldo = saldo\n",
        "  def detalhe(self):\n",
        "    print(f'Titular:{self.titular},saldo:{self.saldo}')\n"
      ],
      "metadata": {
        "id": "er5CNWcBoYDV"
      },
      "execution_count": 44,
      "outputs": []
    },
    {
      "cell_type": "code",
      "source": [
        "informacao = Conta('Israel','100,000')\n",
        "informacao.detalhe()"
      ],
      "metadata": {
        "colab": {
          "base_uri": "https://localhost:8080/"
        },
        "id": "OTbtKpvhpmz2",
        "outputId": "e1d9938f-8ab2-4514-ec6a-c2a72f3817ce"
      },
      "execution_count": 45,
      "outputs": [
        {
          "output_type": "stream",
          "name": "stdout",
          "text": [
            "Titular:Israel,saldo:100,000\n"
          ]
        }
      ]
    },
    {
      "cell_type": "code",
      "source": [
        "class Animal:\n",
        "  def __init__(self, name):\n",
        "    self.name = name\n",
        "  def emitirSom(self):\n",
        "    pass\n",
        "\n",
        "class Ovelha(Animal):\n",
        "  def emitirSom(self):\n",
        "    print('Béee')\n",
        "\n",
        "class Cachorro(Animal):\n",
        "  def emitirSom(self):\n",
        "    print('Auau')    \n"
      ],
      "metadata": {
        "id": "kex9OfQNtWV8"
      },
      "execution_count": 48,
      "outputs": []
    },
    {
      "cell_type": "code",
      "source": [
        "ovelhinha = Ovelha('Ana')\n",
        "caozinho = Cachorro('doug')\n",
        "\n",
        "ovelhinha.emitirSom()\n",
        "caozinho.emitirSom()\n"
      ],
      "metadata": {
        "colab": {
          "base_uri": "https://localhost:8080/"
        },
        "id": "xq3OyvVXuql1",
        "outputId": "fd08a14e-ae7c-4777-d7a2-4bdbfda0e995"
      },
      "execution_count": 50,
      "outputs": [
        {
          "output_type": "stream",
          "name": "stdout",
          "text": [
            "Béee\n",
            "Auau\n"
          ]
        }
      ]
    }
  ]
}